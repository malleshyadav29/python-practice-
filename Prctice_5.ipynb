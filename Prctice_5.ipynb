{
  "nbformat": 4,
  "nbformat_minor": 0,
  "metadata": {
    "colab": {
      "provenance": []
    },
    "kernelspec": {
      "name": "python3",
      "display_name": "Python 3"
    },
    "language_info": {
      "name": "python"
    }
  },
  "cells": [
    {
      "cell_type": "code",
      "execution_count": null,
      "metadata": {
        "id": "WV_4BSX5Aj2z"
      },
      "outputs": [],
      "source": []
    },
    {
      "cell_type": "markdown",
      "source": [
        "#1.Python function to count the number of vowels in a given string"
      ],
      "metadata": {
        "id": "5fVBJqBUAqJr"
      }
    },
    {
      "cell_type": "code",
      "source": [
        "str=input(\"Enter string:\")\n",
        "vowels=0\n",
        "for i in str:\n",
        "      if(i=='a' or i=='e' or i=='i' or i=='o' or i=='u' or i=='A' or i=='E' or i=='I' or i=='O' or i=='U'):\n",
        "            vowels=vowels+1\n",
        "print(vowels)"
      ],
      "metadata": {
        "colab": {
          "base_uri": "https://localhost:8080/"
        },
        "id": "MmHiScvtAzv9",
        "outputId": "f6dcfaae-eafe-418c-a475-16a1bde493be"
      },
      "execution_count": 3,
      "outputs": [
        {
          "output_type": "stream",
          "name": "stdout",
          "text": [
            "Enter string:A\n",
            "1\n"
          ]
        }
      ]
    },
    {
      "cell_type": "markdown",
      "source": [
        "#2.Create a list of words and concatenate them into a single string\n"
      ],
      "metadata": {
        "id": "vxdUQdNnBSUW"
      }
    },
    {
      "cell_type": "code",
      "source": [
        "words = [\"Iam\",\"yogesh\",\"from\",\"nzb\"]\n",
        "result = \" \".join(words)\n",
        "print(\"Concatenated string:\", result)"
      ],
      "metadata": {
        "colab": {
          "base_uri": "https://localhost:8080/"
        },
        "id": "RV2J7QGPBX81",
        "outputId": "204b5035-d666-403b-d6a1-8bf4868a01ad"
      },
      "execution_count": 4,
      "outputs": [
        {
          "output_type": "stream",
          "name": "stdout",
          "text": [
            "Concatenated string: Iam yogesh from nzb\n"
          ]
        }
      ]
    },
    {
      "cell_type": "markdown",
      "source": [
        "#3.python program to find the length of the longest word in the sentence"
      ],
      "metadata": {
        "id": "HhfTr6JSBpwb"
      }
    },
    {
      "cell_type": "code",
      "source": [
        "def length(s):\n",
        "    words = s.split()\n",
        "    longest = max(len(word) for word in words)\n",
        "    return longest\n",
        "\n",
        "sentence = input(\"Enter a sentence: \")\n",
        "print(\"Length of the longest word:\", length(sentence))"
      ],
      "metadata": {
        "colab": {
          "base_uri": "https://localhost:8080/"
        },
        "id": "HE4Mkqt0Bxbq",
        "outputId": "fe3b5830-00cd-46ab-f2be-e2207fdd9a93"
      },
      "execution_count": 5,
      "outputs": [
        {
          "output_type": "stream",
          "name": "stdout",
          "text": [
            "Enter a sentence: 12\n",
            "Length of the longest word: 2\n"
          ]
        }
      ]
    },
    {
      "cell_type": "markdown",
      "source": [
        "#4.Remove all duplicate characters from a given string"
      ],
      "metadata": {
        "id": "WAh9DemrB6CB"
      }
    },
    {
      "cell_type": "code",
      "source": [
        "strs = input(\"Enter a string: \")\n",
        "result = []\n",
        "for char in strs:\n",
        "    if char not in result:\n",
        "        result.append(char)\n",
        "print(\"String after removing duplicates:\", ''.join(result))"
      ],
      "metadata": {
        "colab": {
          "base_uri": "https://localhost:8080/"
        },
        "id": "8T92QHQgB7Ga",
        "outputId": "78104c40-baba-4b4e-cf02-0d73fba2b914"
      },
      "execution_count": 6,
      "outputs": [
        {
          "output_type": "stream",
          "name": "stdout",
          "text": [
            "Enter a string: mallesh \n",
            "String after removing duplicates: malesh \n"
          ]
        }
      ]
    },
    {
      "cell_type": "markdown",
      "source": [
        "#5.python program to find the length of the smallest word in the sentence\n"
      ],
      "metadata": {
        "id": "AYfcK24RCFXN"
      }
    },
    {
      "cell_type": "code",
      "source": [
        "def length(s):\n",
        "    words = s.split()\n",
        "    longest = min(len(word) for word in words)\n",
        "    return longest\n",
        "\n",
        "sentence = input(\"Enter a sentence: \")\n",
        "print(\"Length of the longest word:\", length(sentence))"
      ],
      "metadata": {
        "colab": {
          "base_uri": "https://localhost:8080/"
        },
        "id": "r8pss7EvCGVf",
        "outputId": "a53b91d4-86fe-442a-b54d-8c1456a0c689"
      },
      "execution_count": 7,
      "outputs": [
        {
          "output_type": "stream",
          "name": "stdout",
          "text": [
            "Enter a sentence: yogesh\n",
            "Length of the longest word: 6\n"
          ]
        }
      ]
    },
    {
      "cell_type": "markdown",
      "source": [
        "  # 6.Find the number of Consonants in a given word"
      ],
      "metadata": {
        "id": "36atssIoCPAy"
      }
    },
    {
      "cell_type": "code",
      "source": [
        "def consonants(word):\n",
        "    consonants = \"bcdfghjklmnpqrstvwxyzBCDFGHJKLMNPQRSTVWXYZ\"\n",
        "    count = sum(1 for char in word if char in consonants)\n",
        "    return count\n",
        "\n",
        "\n",
        "word = input(\"Enter a word: \")\n",
        "print(\"Number of consonants:\", consonants(word))"
      ],
      "metadata": {
        "colab": {
          "base_uri": "https://localhost:8080/"
        },
        "id": "uzX2I7rNdUiK",
        "outputId": "25b865aa-9cff-4cd3-b63b-5086d7d68f63"
      },
      "execution_count": 10,
      "outputs": [
        {
          "output_type": "stream",
          "name": "stdout",
          "text": [
            "Enter a word: mallesh \n",
            "Number of consonants: 5\n"
          ]
        }
      ]
    },
    {
      "cell_type": "markdown",
      "source": [
        "#7.Check if a Number is Positive, Negative, or Zero"
      ],
      "metadata": {
        "id": "1IiNyZPRd4IT"
      }
    },
    {
      "cell_type": "code",
      "source": [
        "number = float(input(\"Enter a number: \"))\n",
        "\n",
        "if number > 0:\n",
        "    print(\"The number is positive.\")\n",
        "elif number < 0:\n",
        "    print(\"The number is negative.\")\n",
        "else:\n",
        "    print(\"The number is zero.\")"
      ],
      "metadata": {
        "colab": {
          "base_uri": "https://localhost:8080/"
        },
        "id": "e0QDcBEDd5a0",
        "outputId": "9029fc01-d913-4bbb-df19-d80bfe7889d7"
      },
      "execution_count": 12,
      "outputs": [
        {
          "output_type": "stream",
          "name": "stdout",
          "text": [
            "Enter a number: -1\n",
            "The number is negative.\n"
          ]
        }
      ]
    },
    {
      "cell_type": "markdown",
      "source": [
        "#8. Sum of First N Odd Numbers"
      ],
      "metadata": {
        "id": "wPf6f8W1eEjp"
      }
    },
    {
      "cell_type": "code",
      "source": [
        "n = int(input(\"Enter a number: \"))\n",
        "odd_sum = sum(range(1,2*n,2))\n",
        "print(f\"The sum of the first {n} odd numbers is {odd_sum}.\")"
      ],
      "metadata": {
        "colab": {
          "base_uri": "https://localhost:8080/"
        },
        "id": "iGrVH_WneF8r",
        "outputId": "e3d192f2-21ff-4d4e-a839-41ab6c381764"
      },
      "execution_count": 13,
      "outputs": [
        {
          "output_type": "stream",
          "name": "stdout",
          "text": [
            "Enter a number: 6\n",
            "The sum of the first 6 odd numbers is 36.\n"
          ]
        }
      ]
    },
    {
      "cell_type": "markdown",
      "source": [
        "#9.Check if a String Contains a Substring"
      ],
      "metadata": {
        "id": "JC80MzaZePDw"
      }
    },
    {
      "cell_type": "code",
      "source": [
        "string = input(\"Enter a string: \")\n",
        "substring = input(\"Enter the substring to search: \")\n",
        "\n",
        "if substring in string:\n",
        "    print(f\"The substring '{substring}' is found in the string.\")\n",
        "else:\n",
        "    print(f\"The substring '{substring}' is not found in the string.\")"
      ],
      "metadata": {
        "colab": {
          "base_uri": "https://localhost:8080/"
        },
        "id": "geJKlp15eTJB",
        "outputId": "8480a12c-7a36-4ae5-97ae-01f177361479"
      },
      "execution_count": 15,
      "outputs": [
        {
          "output_type": "stream",
          "name": "stdout",
          "text": [
            "Enter a string: yogesh\n",
            "Enter the substring to search: mallesh \n",
            "The substring 'mallesh ' is not found in the string.\n"
          ]
        }
      ]
    },
    {
      "cell_type": "markdown",
      "source": [
        "#10.Count the Number of Words in a Sentence"
      ],
      "metadata": {
        "id": "Ynp-PCvDeqT4"
      }
    },
    {
      "cell_type": "code",
      "source": [
        "sentence = input(\"Enter a sentence: \")\n",
        "word_count = len(sentence.split())\n",
        "print(f\"The number of words in the sentence is {word_count}.\")"
      ],
      "metadata": {
        "colab": {
          "base_uri": "https://localhost:8080/"
        },
        "id": "TNzDhwVTerfW",
        "outputId": "ba2f4bda-0870-4637-ffb4-70f8f6cd4b8c"
      },
      "execution_count": 17,
      "outputs": [
        {
          "output_type": "stream",
          "name": "stdout",
          "text": [
            "Enter a sentence: I am from Nzb\n",
            "The number of words in the sentence is 4.\n"
          ]
        }
      ]
    },
    {
      "cell_type": "markdown",
      "source": [
        "#11.Find the ASCII Value of a Character"
      ],
      "metadata": {
        "id": "sOihHIy1e-PA"
      }
    },
    {
      "cell_type": "code",
      "source": [
        "char = input(\"Enter a character: \")\n",
        "ascii = ord(char)\n",
        "print(f\"The ASCII value of '{char}' is {ascii}.\")"
      ],
      "metadata": {
        "colab": {
          "base_uri": "https://localhost:8080/"
        },
        "id": "v7JdV0zJfDW4",
        "outputId": "1fe82069-ee08-420e-c4c4-423a768f5f0b"
      },
      "execution_count": 19,
      "outputs": [
        {
          "output_type": "stream",
          "name": "stdout",
          "text": [
            "Enter a character: m\n",
            "The ASCII value of 'm' is 109.\n"
          ]
        }
      ]
    },
    {
      "cell_type": "markdown",
      "source": [
        "#12.Remove a Specific Element from a List"
      ],
      "metadata": {
        "id": "0GNNYFwefUcH"
      }
    },
    {
      "cell_type": "code",
      "source": [
        "animals = ['cat','dog', 'dog', 'guinea pig', 'dog']\n",
        "animals.remove('cat')\n",
        "print('Updated animals list: ', animals)"
      ],
      "metadata": {
        "colab": {
          "base_uri": "https://localhost:8080/"
        },
        "id": "Ukku84tyfYSn",
        "outputId": "4513e913-3029-459a-dc97-cd80d45f1b5d"
      },
      "execution_count": 20,
      "outputs": [
        {
          "output_type": "stream",
          "name": "stdout",
          "text": [
            "Updated animals list:  ['dog', 'dog', 'guinea pig', 'dog']\n"
          ]
        }
      ]
    },
    {
      "cell_type": "markdown",
      "source": [
        "#13.Count the Number of matching characters in a pair of string"
      ],
      "metadata": {
        "id": "FoBN3BYgffRs"
      }
    },
    {
      "cell_type": "code",
      "source": [
        "string1 = input(\"Enter the first string: \")\n",
        "string2 = input(\"Enter the second string: \")\n",
        "\n",
        "matching_characters = set(string1) & set(string2)\n",
        "\n",
        "print(f\"Number of matching characters: {len(matching_characters)}\")\n",
        "print(f\"Matching characters: {', '.join(matching_characters)}\")"
      ],
      "metadata": {
        "colab": {
          "base_uri": "https://localhost:8080/"
        },
        "id": "R4X7epMgfg6T",
        "outputId": "8b6527c5-bb1f-455e-a0dd-4f1be44f3fcc"
      },
      "execution_count": 21,
      "outputs": [
        {
          "output_type": "stream",
          "name": "stdout",
          "text": [
            "Enter the first string: yogesh\n",
            "Enter the second string: mallesh \n",
            "Number of matching characters: 3\n",
            "Matching characters: h, e, s\n"
          ]
        }
      ]
    },
    {
      "cell_type": "markdown",
      "source": [
        "#14.Convert List of tuples to List of dictionaries"
      ],
      "metadata": {
        "id": "Vd8Qxf5sfzRG"
      }
    },
    {
      "cell_type": "code",
      "source": [
        "my_list = [(\"name\", \"yogesh\"), (\"age\", 22), (\"city\", \"NZB\")]\n",
        "result = [dict([item]) for item in my_list]\n",
        "print(result)"
      ],
      "metadata": {
        "colab": {
          "base_uri": "https://localhost:8080/"
        },
        "id": "JAtGxwNuf0er",
        "outputId": "53c586f5-4a80-4e86-f5ce-d053b00cab19"
      },
      "execution_count": 22,
      "outputs": [
        {
          "output_type": "stream",
          "name": "stdout",
          "text": [
            "[{'name': 'yogesh'}, {'age': 22}, {'city': 'NZB'}]\n"
          ]
        }
      ]
    }
  ]
}