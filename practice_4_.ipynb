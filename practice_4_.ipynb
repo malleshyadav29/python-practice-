{
  "nbformat": 4,
  "nbformat_minor": 0,
  "metadata": {
    "colab": {
      "provenance": []
    },
    "kernelspec": {
      "name": "python3",
      "display_name": "Python 3"
    },
    "language_info": {
      "name": "python"
    }
  },
  "cells": [
    {
      "cell_type": "markdown",
      "source": [
        "#1Q:-write  a python code to convert list into string."
      ],
      "metadata": {
        "id": "jiCnXLvoScZc"
      }
    },
    {
      "cell_type": "code",
      "source": [
        "list=['h','e','l','l','o']\n",
        "string=''.join(list)\n",
        "print(string)"
      ],
      "metadata": {
        "colab": {
          "base_uri": "https://localhost:8080/"
        },
        "id": "RiqdvI1VSuiY",
        "outputId": "95d28130-987a-4c6f-d524-437f1351f3a8"
      },
      "execution_count": 4,
      "outputs": [
        {
          "output_type": "stream",
          "name": "stdout",
          "text": [
            "hello\n"
          ]
        }
      ]
    },
    {
      "cell_type": "markdown",
      "source": [
        "#2Q:- write  a python code to calculate area of triangle"
      ],
      "metadata": {
        "id": "si2vv0oBSTu9"
      }
    },
    {
      "cell_type": "code",
      "execution_count": 8,
      "metadata": {
        "colab": {
          "base_uri": "https://localhost:8080/"
        },
        "id": "ZwMjzBOKj1ut",
        "outputId": "57a4de6d-9073-4d39-ece1-576c1e7a32a3"
      },
      "outputs": [
        {
          "output_type": "stream",
          "name": "stdout",
          "text": [
            "Enter second side: 8\n",
            "Enter third side: 0\n",
            "0.0\n"
          ]
        }
      ],
      "source": [
        "b = int(input('Enter second side: '))\n",
        "h = int(input('Enter third side: '))\n",
        "s=1/2*b*h\n",
        "print(s)\n"
      ]
    },
    {
      "cell_type": "markdown",
      "source": [
        "#3Q:- write  a python code to triangles."
      ],
      "metadata": {
        "id": "WLxl8_SAUsAG"
      }
    },
    {
      "cell_type": "code",
      "source": [
        "a=int(input(\"Enter the first number:\"))\n",
        "if a<90 and a>0:\n",
        " print(\"Acute angle\")\n",
        "elif a>90 and a<180:\n",
        " print(\"Obtuse angle\")\n",
        "elif a==90:\n",
        " print(\"Right angle\")\n",
        "\n"
      ],
      "metadata": {
        "colab": {
          "base_uri": "https://localhost:8080/"
        },
        "id": "bOTd6_jNlOj4",
        "outputId": "ae709d6d-6204-4276-9607-c7352b4b0e59"
      },
      "execution_count": 11,
      "outputs": [
        {
          "output_type": "stream",
          "name": "stdout",
          "text": [
            "Enter the first number:7\n",
            "Acute angle\n"
          ]
        }
      ]
    },
    {
      "cell_type": "markdown",
      "source": [
        "#4Q:- write  a python code to create a class to a basic calculator with add , substraction, multiply and divide method"
      ],
      "metadata": {
        "id": "ojbWxme2VMir"
      }
    },
    {
      "cell_type": "code",
      "source": [
        "\n",
        "a= int(input(\"Enter the first number:\"))\n",
        "b= int(input(\"Enter the second number:\"))\n",
        "class calculator:\n",
        " def __init__(self,a,b):\n",
        "    self.a=a\n",
        "    self.b=b\n",
        " def add(self):\n",
        "    return self.a+self.b\n",
        " def sub(self):\n",
        "    return self.a-self.b\n",
        " def mul(self):\n",
        "    return self.a*self.b\n",
        " def div(self):\n",
        "    return self.a/self.b\n",
        "obj=calculator(a,b)\n",
        "print(obj.add())\n",
        "print(obj.sub())\n",
        "print(obj.mul())\n",
        "print(obj.div())\n"
      ],
      "metadata": {
        "colab": {
          "base_uri": "https://localhost:8080/"
        },
        "id": "eAflzCkEl_Lc",
        "outputId": "046438c6-f32c-420a-e32b-c79f79cb5d2b"
      },
      "execution_count": null,
      "outputs": [
        {
          "output_type": "stream",
          "name": "stdout",
          "text": [
            "Enter the first number:2\n",
            "Enter the second number:3\n",
            "5\n",
            "-1\n",
            "6\n",
            "0.6666666666666666\n"
          ]
        }
      ]
    },
    {
      "cell_type": "markdown",
      "source": [
        "#4Q:- create a class to represent a movie with attribtes like title, director and rating.\n"
      ],
      "metadata": {
        "id": "aeeCcF4DVct0"
      }
    },
    {
      "cell_type": "code",
      "source": [
        "title=input(\"enter movie title :\")\n",
        "director=input(\"enter the movie director:\")\n",
        "rating=input(\"enter rating for movie:\")\n",
        "class movie:\n",
        "    def __init__(self,title,director,rating):\n",
        "        self.title=title\n",
        "        self.director=director\n",
        "        self.rating=rating\n",
        "    def disply(self):\n",
        "        print(f\"Title: {self.title}\")\n",
        "        print(f\"Director: {self.director}\")\n",
        "        print(f\"Rating: {self.rating}\")\n",
        "obj=movie(title,director,rating)\n",
        "obj.disply()\n"
      ],
      "metadata": {
        "id": "-SiZuzousruS",
        "colab": {
          "base_uri": "https://localhost:8080/"
        },
        "outputId": "6d1fc92b-b3c4-451e-c4cf-39dba96360b3"
      },
      "execution_count": null,
      "outputs": [
        {
          "output_type": "stream",
          "name": "stdout",
          "text": [
            "enter movie title :mahan\n",
            "enter the movie director:karthik subaraj\n",
            "enter rating for movie:4.7\n",
            "Title: mahan\n",
            "Director: karthik subaraj\n",
            "Rating: 4.7\n"
          ]
        }
      ]
    },
    {
      "cell_type": "markdown",
      "source": [
        "#5Q:- implement a class hierachy to  represent different different types of vechiles (cars,bike) with their own attributes and methods"
      ],
      "metadata": {
        "id": "gmOae_JcVtug"
      }
    },
    {
      "cell_type": "code",
      "source": [
        "class vechile:\n",
        "    def __init__(self,name,model):\n",
        "        self.name=name\n",
        "        self.model=model\n",
        "bikename =input(\"enter bike name:\")\n",
        "bikemodel=input(\"enter bike model:\")\n",
        "class bike (vechile):\n",
        "    def __init__(self,bike,model):\n",
        "        self.bike=bike\n",
        "        self.model=model\n",
        "carname =input(\"enter car name:\")\n",
        "carmodel=input(\"enter car model:\")\n",
        "class car (vechile):\n",
        "    def __init__(self,car,model):\n",
        "        self.car=car\n",
        "        self.model=model\n",
        "bikeobj=bike('bikename','bikemodel')\n",
        "print(f\"Bike:{bikename}\\nBike model:{bikemodel}\")\n",
        "carobj=car('carname','carmodel')\n",
        "print(f\"Car:{carname}\\nCar model:{carmodel}\")"
      ],
      "metadata": {
        "id": "mb2oaqhPuURM",
        "colab": {
          "base_uri": "https://localhost:8080/"
        },
        "outputId": "20d0b2cf-bec8-4efd-fe8a-2ebbecb35eae"
      },
      "execution_count": 29,
      "outputs": [
        {
          "output_type": "stream",
          "name": "stdout",
          "text": [
            "enter bike name:Bullet\n",
            "enter bike model:classic \n",
            "enter car name:TATA Nexon\n",
            "enter car model:ev\n",
            "Bike:Bullet\n",
            "Bike model:classic \n",
            "Car:TATA Nexon\n",
            "Car model:ev\n"
          ]
        }
      ]
    }
  ]
}