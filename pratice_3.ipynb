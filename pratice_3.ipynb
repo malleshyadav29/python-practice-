{
  "nbformat": 4,
  "nbformat_minor": 0,
  "metadata": {
    "colab": {
      "provenance": []
    },
    "kernelspec": {
      "name": "python3",
      "display_name": "Python 3"
    },
    "language_info": {
      "name": "python"
    }
  },
  "cells": [
    {
      "cell_type": "code",
      "execution_count": 1,
      "metadata": {
        "colab": {
          "base_uri": "https://localhost:8080/"
        },
        "id": "Fo3lPr6rp_Iv",
        "outputId": "5f376876-8a33-41d1-9fd8-6cfcd99be6c9"
      },
      "outputs": [
        {
          "output_type": "stream",
          "name": "stdout",
          "text": [
            "Welcome to Vamsi Restaurant\n",
            "Menu:\n",
            "Non-Veg Items:\n",
            "Chicken Curry\n",
            "Fish Biryani\n",
            "Mutton Biryani\n",
            "Prawn Masala\n",
            "Egg Curry\n",
            "Chicken Biryani \n",
            "Veg Items:\n",
            "Panner Tikka\n",
            "Veg Biryani\n",
            "Dal Makhani\n",
            "Palak Panner\n",
            "Vegetable Curry\n",
            "Select an item from the menu: Chicken Curry\n",
            "This is a non-veg item, and the item is ready. Please wait.\n"
          ]
        }
      ],
      "source": [
        "def print_menu():\n",
        "    print(\"Menu:\")\n",
        "    print(\"Non-Veg Items:\")\n",
        "    for item in non_veg_items:\n",
        "        print(f\"{item}\")\n",
        "\n",
        "    print(\"Veg Items:\")\n",
        "    for item in veg_items:\n",
        "        print(f\"{item}\")\n",
        "\n",
        "def select_item(item):\n",
        "    if item in non_veg_items:\n",
        "        print(\"This is a non-veg item, and the item is ready. Please wait.\")\n",
        "    elif item in veg_items:\n",
        "        print(\"This is a veg item, and the item is ready. Please wait.\")\n",
        "    else:\n",
        "        print(\"We don't serve that item.\")\n",
        "\n",
        "non_veg_items = [\"Chicken Curry\", \"Fish Biryani\", \"Mutton Biryani\", \"Prawn Masala\", \"Egg Curry\",\"Chicken Biryani \"]\n",
        "\n",
        "veg_items = [\"Panner Tikka\", \"Veg Biryani\", \"Dal Makhani\", \"Palak Panner\", \"Vegetable Curry\"]\n",
        "\n",
        "print(\"Welcome to Vamsi Restaurant\")\n",
        "print_menu()\n",
        "selected_item = input(\"Select an item from the menu: \")\n",
        "select_item(selected_item)\n"
      ]
    },
    {
      "cell_type": "markdown",
      "source": [
        "#1.Prime numbers"
      ],
      "metadata": {
        "id": "djMBBtR9-ZIh"
      }
    },
    {
      "cell_type": "code",
      "source": [
        "num = int(input(\"Enter a number: \"))\n",
        "def prime(num):\n",
        "    for i in range(2,num):\n",
        "        if num % i == 0:\n",
        "            print(\"Not prime\")\n",
        "            break\n",
        "    else:\n",
        "        print(\"Prime number\")\n",
        "\n",
        "prime(num)"
      ],
      "metadata": {
        "colab": {
          "base_uri": "https://localhost:8080/"
        },
        "id": "WlbQWb-m7LXq",
        "outputId": "176dfe46-c8fd-4fcc-a956-cf545004f0a8"
      },
      "execution_count": 7,
      "outputs": [
        {
          "output_type": "stream",
          "name": "stdout",
          "text": [
            "Enter a number: 2\n",
            "Prime number\n"
          ]
        }
      ]
    },
    {
      "cell_type": "markdown",
      "source": [
        "#2.Pattern"
      ],
      "metadata": {
        "id": "9HpVJ4-z7ZB3"
      }
    },
    {
      "cell_type": "code",
      "source": [
        "n = int(input(\"enter thr number:\"))\n",
        "\n",
        "for i in range(1, n + 1):\n",
        "    print(str(i) * (n - i + 1))"
      ],
      "metadata": {
        "colab": {
          "base_uri": "https://localhost:8080/"
        },
        "id": "F1mfvBkq7d-7",
        "outputId": "b25b1535-d9ac-4161-c162-d0ac6b23e8c4"
      },
      "execution_count": 8,
      "outputs": [
        {
          "output_type": "stream",
          "name": "stdout",
          "text": [
            "enter thr number:3\n",
            "111\n",
            "22\n",
            "3\n"
          ]
        }
      ]
    },
    {
      "cell_type": "markdown",
      "source": [
        "#3.Celsius to farenheit"
      ],
      "metadata": {
        "id": "4lqnJSaA7pAA"
      }
    },
    {
      "cell_type": "code",
      "source": [
        "c = float(input(\"Enter the temperature in Celsius: \"))\n",
        "f = c*(9/5)+32\n",
        "print(f\"{c} C is equal to {f} F\")"
      ],
      "metadata": {
        "colab": {
          "base_uri": "https://localhost:8080/"
        },
        "id": "YMczX2C37j3f",
        "outputId": "ac959d8f-405d-451b-f415-86e45877c2b9"
      },
      "execution_count": 11,
      "outputs": [
        {
          "output_type": "stream",
          "name": "stdout",
          "text": [
            "Enter the temperature in Celsius: 54\n",
            "54.0 C is equal to 129.2 F\n"
          ]
        }
      ]
    },
    {
      "cell_type": "markdown",
      "source": [
        "#4.Simple intrest"
      ],
      "metadata": {
        "id": "DQkG5SOY79L_"
      }
    },
    {
      "cell_type": "code",
      "source": [
        "p = int(input(\"Enter the amount: \"))\n",
        "r = float(input(\"Enter the interest (in %): \"))\n",
        "t = int(input(\"Enter the time (in years): \"))\n",
        "\n",
        "simple_interest = (p*r*t) / 100\n",
        "\n",
        "print(f\"Simple Interest is: {simple_interest}\")"
      ],
      "metadata": {
        "colab": {
          "base_uri": "https://localhost:8080/"
        },
        "id": "0JN1J7bb7-jU",
        "outputId": "d3595b87-7c6b-4b56-e2ef-db64210d561b"
      },
      "execution_count": 12,
      "outputs": [
        {
          "output_type": "stream",
          "name": "stdout",
          "text": [
            "Enter the amount: 10000\n",
            "Enter the interest (in %): 3\n",
            "Enter the time (in years): 1\n",
            "Simple Interest is: 300.0\n"
          ]
        }
      ]
    },
    {
      "cell_type": "markdown",
      "source": [
        "#5.Number to decimal"
      ],
      "metadata": {
        "id": "RzqZ-RCp8TIW"
      }
    },
    {
      "cell_type": "code",
      "source": [
        "num= input(\"Enter the number: \")\n",
        "def decimal(num):\n",
        "     a=float(num)\n",
        "     print(a)\n",
        "decimal(num)"
      ],
      "metadata": {
        "colab": {
          "base_uri": "https://localhost:8080/"
        },
        "id": "sGyRHGY08UMs",
        "outputId": "46049f5d-9fe5-4661-c425-cb5a0ed12851"
      },
      "execution_count": 19,
      "outputs": [
        {
          "output_type": "stream",
          "name": "stdout",
          "text": [
            "Enter the number: 100\n",
            "100.0\n"
          ]
        }
      ]
    },
    {
      "cell_type": "markdown",
      "source": [
        "#6.character is digit or not"
      ],
      "metadata": {
        "id": "l_zMVmx69ReH"
      }
    },
    {
      "cell_type": "code",
      "source": [
        "char = input(\"enter the number:\")\n",
        "\n",
        "if char.isdigit():\n",
        "    print(\"It is a digit\")\n",
        "else:\n",
        "    print(\"It is not a digit\")"
      ],
      "metadata": {
        "colab": {
          "base_uri": "https://localhost:8080/"
        },
        "id": "qwowsf089QTq",
        "outputId": "3e7176d2-5f63-42cb-d644-1ba4373ba414"
      },
      "execution_count": 21,
      "outputs": [
        {
          "output_type": "stream",
          "name": "stdout",
          "text": [
            "enter the number:a\n",
            "It is not a digit\n"
          ]
        }
      ]
    },
    {
      "cell_type": "markdown",
      "source": [
        "#7.Armstrong number"
      ],
      "metadata": {
        "id": "DwZwdmOI9fLS"
      }
    },
    {
      "cell_type": "code",
      "source": [
        "num = int(input(\"Enter a number: \"))\n",
        "sum = 0\n",
        "temp = num\n",
        "while temp > 0:\n",
        "    digit = temp % 10\n",
        "    sum += digit ** 3\n",
        "    temp //= 10\n",
        "\n",
        "# Display the result\n",
        "if num == sum:\n",
        "    print(num, \"is an Armstrong number\")\n",
        "else:\n",
        "    print(num, \"is not an Armstrong number\")"
      ],
      "metadata": {
        "colab": {
          "base_uri": "https://localhost:8080/"
        },
        "id": "XZdb2utp9gIn",
        "outputId": "05a92e77-ea9b-472e-ff9b-28aa260b83c7"
      },
      "execution_count": 27,
      "outputs": [
        {
          "output_type": "stream",
          "name": "stdout",
          "text": [
            "Enter a number: 122\n",
            "122 is not an Armstrong number\n"
          ]
        }
      ]
    },
    {
      "cell_type": "markdown",
      "source": [
        "#8.Anagram or not"
      ],
      "metadata": {
        "id": "fsES52Z998yj"
      }
    },
    {
      "cell_type": "code",
      "source": [
        "s1=input(\"enter the string1:\")\n",
        "s2=input(\"enter the string2:\")\n",
        "\n",
        "def check(s1, s2):\n",
        "    if(sorted(s1)== sorted(s2)):\n",
        "        print(\"The strings are anagrams.\")\n",
        "    else:\n",
        "        print(\"The strings aren't anagrams.\")\n",
        "\n",
        "check(s1,s2) # formed by rearranging the letters of another word or phrase, using all the original letters exactly once"
      ],
      "metadata": {
        "colab": {
          "base_uri": "https://localhost:8080/"
        },
        "id": "yYotZkvV9-S8",
        "outputId": "cd08c021-de83-472b-82f9-c943abc7e139"
      },
      "execution_count": 28,
      "outputs": [
        {
          "output_type": "stream",
          "name": "stdout",
          "text": [
            "enter the string1:12\n",
            "enter the string2:34\n",
            "The strings aren't anagrams.\n"
          ]
        }
      ]
    },
    {
      "cell_type": "markdown",
      "source": [
        "#9.GCD of two numbers"
      ],
      "metadata": {
        "id": "j9gS-CQG-KF7"
      }
    },
    {
      "cell_type": "code",
      "source": [
        "def gcd(a, b):\n",
        "    while b != 0:\n",
        "        a, b = b, a % b\n",
        "    print(a)\n",
        "\n",
        "\n",
        "num1 = int(input(\"Enter the first number: \"))\n",
        "num2 = int(input(\"Enter the second number: \"))\n",
        "\n",
        "result = gcd(num1, num2)\n",
        "\n",
        "#Multiply the common prime factors with the lowest powers."
      ],
      "metadata": {
        "colab": {
          "base_uri": "https://localhost:8080/"
        },
        "id": "ahyTNBnV-LRY",
        "outputId": "848b62e6-b133-41dd-a029-f02dc1481e08"
      },
      "execution_count": 29,
      "outputs": [
        {
          "output_type": "stream",
          "name": "stdout",
          "text": [
            "Enter the first number: 11\n",
            "Enter the second number: 44\n",
            "11\n"
          ]
        }
      ]
    },
    {
      "cell_type": "markdown",
      "source": [
        "#10.Replace character in place of space"
      ],
      "metadata": {
        "id": "KE7vTbN6-YaT"
      }
    },
    {
      "cell_type": "code",
      "source": [
        "a = input(\"Enter the string: \")\n",
        "b = input(\"Enter the replacing character: \")\n",
        "\n",
        "replacing_string = a.replace(\" \", b)\n",
        "\n",
        "print(replacing_string)"
      ],
      "metadata": {
        "colab": {
          "base_uri": "https://localhost:8080/"
        },
        "id": "yrwvfQFs-a7m",
        "outputId": "48a8e8fa-2db5-41dc-d3e6-da81f9c09a9d"
      },
      "execution_count": 31,
      "outputs": [
        {
          "output_type": "stream",
          "name": "stdout",
          "text": [
            "Enter the string: bat\n",
            "Enter the replacing character: ball\n",
            "bat\n"
          ]
        }
      ]
    },
    {
      "cell_type": "markdown",
      "source": [
        "#11.Swap 2 numbers without using third parameter"
      ],
      "metadata": {
        "id": "T0VSoQei-x6-"
      }
    },
    {
      "cell_type": "code",
      "source": [
        "def swapping(num1, num2):\n",
        "    print(f'Values before swapping: num1={num1}, num2={num2}')\n",
        "    num1, num2 = num2, num1\n",
        "    print(f'The swapped values are: num1={num1}, num2={num2}')\n",
        "    print(num1, num2)\n",
        "\n",
        "swapping(2,1)"
      ],
      "metadata": {
        "colab": {
          "base_uri": "https://localhost:8080/"
        },
        "id": "lzkBig2j-3ya",
        "outputId": "9002f419-2795-44dc-97c5-00463293154d"
      },
      "execution_count": 33,
      "outputs": [
        {
          "output_type": "stream",
          "name": "stdout",
          "text": [
            "Values before swapping: num1=2, num2=1\n",
            "The swapped values are: num1=1, num2=2\n",
            "1 2\n"
          ]
        }
      ]
    },
    {
      "cell_type": "code",
      "source": [
        "a = int(input(\"Enter the first number: \"))\n",
        "b = int(input(\"Enter the second number: \"))\n",
        "a = a + b\n",
        "b = a - b\n",
        "a = a - b\n",
        "\n",
        "print(\"After swapping:\")\n",
        "print(\"a =\", a)\n",
        "print(\"b =\", b)"
      ],
      "metadata": {
        "colab": {
          "base_uri": "https://localhost:8080/"
        },
        "id": "APYYYFGh_A0T",
        "outputId": "43326da4-3992-4390-97c4-60e594c5b7f0"
      },
      "execution_count": 34,
      "outputs": [
        {
          "output_type": "stream",
          "name": "stdout",
          "text": [
            "Enter the first number: 11\n",
            "Enter the second number: 44\n",
            "After swapping:\n",
            "a = 44\n",
            "b = 11\n"
          ]
        }
      ]
    },
    {
      "cell_type": "markdown",
      "source": [
        "#12.Remove duplicates"
      ],
      "metadata": {
        "id": "9sliDzeD_Hdk"
      }
    },
    {
      "cell_type": "code",
      "source": [
        "strs = input(\"Enter a string: \")\n",
        "a = list(set(strs)) # set():unique elements from that list\n",
        "print(a)"
      ],
      "metadata": {
        "colab": {
          "base_uri": "https://localhost:8080/"
        },
        "id": "jBiBxFpx_In1",
        "outputId": "46d240af-6edc-4c59-f88f-f87e1641536c"
      },
      "execution_count": 37,
      "outputs": [
        {
          "output_type": "stream",
          "name": "stdout",
          "text": [
            "Enter a string: mallesh\n",
            "['a', 'e', 'm', 'h', 's', 'l']\n"
          ]
        }
      ]
    },
    {
      "cell_type": "markdown",
      "source": [
        "#13.add 2 numbers without using any arithmetic operator"
      ],
      "metadata": {
        "id": "buQ6OtqD_vaX"
      }
    },
    {
      "cell_type": "code",
      "source": [
        "a = int(input(\"enter the number1: \"))\n",
        "b = int(input(\"enter the number2: \"))\n",
        "\n",
        "while b != 0:\n",
        "    carry = a & b\n",
        "    a = a ^ b\n",
        "    b = carry << 1\n",
        "\n",
        "print(\"Sum:\", a)"
      ],
      "metadata": {
        "colab": {
          "base_uri": "https://localhost:8080/"
        },
        "id": "Nrcs2aW1_yAI",
        "outputId": "b8b51bdb-5896-4a48-fbc4-4c45019e4605"
      },
      "execution_count": 38,
      "outputs": [
        {
          "output_type": "stream",
          "name": "stdout",
          "text": [
            "enter the number1: 12\n",
            "enter the number2: 55\n",
            "Sum: 67\n"
          ]
        }
      ]
    },
    {
      "cell_type": "markdown",
      "source": [
        "#14.first non repeating occurence"
      ],
      "metadata": {
        "id": "8ILChH0o_5NC"
      }
    },
    {
      "cell_type": "code",
      "source": [
        "str=input('enter character :')\n",
        "\n",
        "for i in str:\n",
        "    if str.count(i)==1:\n",
        "        print(f'{i} is the first non-repeating of the string')\n",
        "        break\n",
        "else:\n",
        "    print(f\"There are no first non-repeating\")"
      ],
      "metadata": {
        "colab": {
          "base_uri": "https://localhost:8080/"
        },
        "id": "zRB0DluI_42J",
        "outputId": "bb8f21f5-6236-4539-ecc0-21c6783e106a"
      },
      "execution_count": 41,
      "outputs": [
        {
          "output_type": "stream",
          "name": "stdout",
          "text": [
            "enter character :mallesh \n",
            "m is the first non-repeating of the string\n"
          ]
        }
      ]
    }
  ]
}