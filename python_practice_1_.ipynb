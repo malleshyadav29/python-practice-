{
  "nbformat": 4,
  "nbformat_minor": 0,
  "metadata": {
    "colab": {
      "provenance": []
    },
    "kernelspec": {
      "name": "python3",
      "display_name": "Python 3"
    },
    "language_info": {
      "name": "python"
    }
  },
  "cells": [
    {
      "cell_type": "markdown",
      "source": [
        "#1) What is Python and why is it popular?\n",
        "- Python is a programming and oriented language.\n",
        "- Python is a high level programming language\n",
        "- In python we have many libraries\n",
        "- easy to learn\n",
        "#2) What is an IDE and name a few popular Python IDEs?\n",
        "-IDE- IDE is Integrated Development Environment\n",
        "- IDEs is a software application that provides to run the code or to test the code\n",
        "-  jupyter notebook google code pycharm and some online compilers\n",
        "#3) What are the rules for naming variables in Python?\n",
        "- Variables start with alpha numeric (A-z, 0-9)\n",
        "-  variables cannot have special characters except underscore(_)\n",
        "- Variables does not start with digits\n",
        "- Variables is case sensitive\n",
        "- variables cannot start with keywords\n",
        "#4) How do you assign multiple values to multiple variables in a single line?\n",
        "\n",
        "\n"
      ],
      "metadata": {
        "id": "bbYXph6NabuY"
      }
    },
    {
      "cell_type": "code",
      "source": [
        "a,b,c=7,8,9\n",
        "\n",
        "print(a)\n",
        "print(b)\n",
        "print(c)\n",
        "print(a,b,c)"
      ],
      "metadata": {
        "colab": {
          "base_uri": "https://localhost:8080/"
        },
        "id": "ncQqD6JLffkv",
        "outputId": "6cad49cd-0962-4fca-acab-46403fc17bf2"
      },
      "execution_count": 4,
      "outputs": [
        {
          "output_type": "stream",
          "name": "stdout",
          "text": [
            "7\n",
            "8\n",
            "9\n",
            "7 8 9\n"
          ]
        }
      ]
    },
    {
      "cell_type": "markdown",
      "source": [
        "#5) Can you use Python keywords as variable names? Why or why not?\n",
        "- We can not use Python Keywords as variable names\n",
        "- keywords are reserved words in python\n",
        "- we have 35 keywords in python where we can not use those as keywords\n",
        "- if you use keywords you will get a syntax error.\n",
        "\n",
        "#6) Why are comments important in programming?\n",
        "- comments are used to understand the code easily\n",
        "#7) What are the basic data types in Python?\n",
        "- There are 4 basic data types in python\n",
        "\n",
        " Integer, float, complex,boolean.\n",
        "\n",
        "#8) How do you convert a string to an integer in Python?\n",
        "- use the built-in int() function to convert a string to an integer.\n",
        "\n",
        "\n",
        "\n"
      ],
      "metadata": {
        "id": "JJxesjGsRcmh"
      }
    },
    {
      "cell_type": "code",
      "source": [
        "a=(\"123\")\n",
        "print(type(a))\n",
        "a=int(a)\n",
        "print(type(a))"
      ],
      "metadata": {
        "colab": {
          "base_uri": "https://localhost:8080/"
        },
        "id": "WX5C-ZLdj9ld",
        "outputId": "7c86e2a7-9c8f-457e-9924-f618e87004f4"
      },
      "execution_count": 9,
      "outputs": [
        {
          "output_type": "stream",
          "name": "stdout",
          "text": [
            "<class 'str'>\n",
            "<class 'int'>\n"
          ]
        }
      ]
    },
    {
      "cell_type": "markdown",
      "source": [
        "#9) What is the difference between int and float?\n",
        " INT\n",
        "\n",
        " - INT means it has real numbers and whole number\n",
        " - it will be in -infinity to +infinity\n",
        "\n",
        "     example:-0,1,2,3,........\n",
        "\n",
        "Float\n",
        "- It has decimal numbers\n",
        "- it will be in -infinity to + infinity\n",
        "\n",
        "    Example 2.3,4.5,6.7,.......\n",
        "#10) How do you check the data type of a variable?\n",
        "- by using \"type()\" command we can check data types of a variable\n",
        "\n"
      ],
      "metadata": {
        "id": "V_AoZnUBk2po"
      }
    },
    {
      "cell_type": "code",
      "source": [
        "a=(2,3+1j)\n",
        "print(type(a))"
      ],
      "metadata": {
        "colab": {
          "base_uri": "https://localhost:8080/"
        },
        "id": "XY9DQJMxmaNC",
        "outputId": "b749d3c8-5c39-4a04-dd8a-7e1de0dad224"
      },
      "execution_count": 11,
      "outputs": [
        {
          "output_type": "stream",
          "name": "stdout",
          "text": [
            "<class 'tuple'>\n"
          ]
        }
      ]
    },
    {
      "cell_type": "markdown",
      "source": [
        "#11) How do you add an element to a list?\n",
        "- we can use append() operation for adding the element to a list\n",
        "\n"
      ],
      "metadata": {
        "id": "8ZX_b7PMmuys"
      }
    },
    {
      "cell_type": "code",
      "source": [
        "names=[\"mallesh\",\"pavan\",\"yogesh\"]\n",
        "names.append(\"kanna\")\n",
        "print(names)"
      ],
      "metadata": {
        "colab": {
          "base_uri": "https://localhost:8080/"
        },
        "id": "O9oV89pCm7w4",
        "outputId": "2323ef3b-1552-4955-9a71-475e6d7b6b6a"
      },
      "execution_count": 15,
      "outputs": [
        {
          "output_type": "stream",
          "name": "stdout",
          "text": [
            "['mallesh', 'pavan', 'yogesh', 'kanna']\n"
          ]
        }
      ]
    },
    {
      "cell_type": "markdown",
      "source": [
        "12) How do you create a tuple with one element?\n",
        "- we can create a tuple with lift side comma of one element\n"
      ],
      "metadata": {
        "id": "D3iANbYvnmsM"
      }
    },
    {
      "cell_type": "code",
      "source": [
        "a=(123,)\n",
        "print(a)\n",
        "print(type(a))"
      ],
      "metadata": {
        "colab": {
          "base_uri": "https://localhost:8080/"
        },
        "id": "-vCCCsdsoIE8",
        "outputId": "348814e6-193a-4ec3-a8d9-dcfd49cc1be4"
      },
      "execution_count": 17,
      "outputs": [
        {
          "output_type": "stream",
          "name": "stdout",
          "text": [
            "(123,)\n",
            "<class 'tuple'>\n"
          ]
        }
      ]
    },
    {
      "cell_type": "markdown",
      "source": [
        "#13) How do you access a value in a dictionary using a key?\n",
        "- By using key() method we can able to acces a value in a dictionary\n"
      ],
      "metadata": {
        "id": "4AW4UKKAoZSP"
      }
    },
    {
      "cell_type": "code",
      "source": [
        "student={\"name\":\"pavan\",\"age\":23,\"grade\":\"a\"}\n",
        "print(student[\"name\"])\n",
        "print(student[\"age\"])\n",
        "print(student[\"grade\"])\n",
        "\n"
      ],
      "metadata": {
        "colab": {
          "base_uri": "https://localhost:8080/"
        },
        "id": "tcBdtgiYpL0y",
        "outputId": "058273b2-aa56-4b13-d982-b8dd61139352"
      },
      "execution_count": 20,
      "outputs": [
        {
          "output_type": "stream",
          "name": "stdout",
          "text": [
            "pavan\n",
            "23\n",
            "a\n"
          ]
        }
      ]
    },
    {
      "cell_type": "markdown",
      "source": [
        "#14) How do you access elements in a list?\n",
        "- by assigning the index method we can accsess\n"
      ],
      "metadata": {
        "id": "GetGjE_Eqx9b"
      }
    },
    {
      "cell_type": "code",
      "source": [
        "fruits=[\"apple\",\"banana\",\"cherry\"]\n",
        "print(fruits[0])\n",
        "print(fruits[1])\n",
        "print(fruits[2])"
      ],
      "metadata": {
        "colab": {
          "base_uri": "https://localhost:8080/"
        },
        "id": "TDCbrZW7q9dw",
        "outputId": "c78c325f-e0d6-44a7-ed70-881a0252516d"
      },
      "execution_count": 21,
      "outputs": [
        {
          "output_type": "stream",
          "name": "stdout",
          "text": [
            "apple\n",
            "banana\n",
            "cherry\n"
          ]
        }
      ]
    },
    {
      "cell_type": "markdown",
      "source": [
        "#15) How do you access a character in a string?\n",
        "- to access a character in a string uses of []\n",
        "\n"
      ],
      "metadata": {
        "id": "VpRBKMZGrlEN"
      }
    },
    {
      "cell_type": "code",
      "source": [
        "a=\"hello\"\n",
        "print(a[0])\n",
        "print(a[1])\n",
        "print(a[2])\n",
        "print(a[3])\n",
        "print(a[4])"
      ],
      "metadata": {
        "colab": {
          "base_uri": "https://localhost:8080/"
        },
        "id": "yY8fY913si_Y",
        "outputId": "3a8da23e-14b1-4ee6-9396-eec16aa434f8"
      },
      "execution_count": 23,
      "outputs": [
        {
          "output_type": "stream",
          "name": "stdout",
          "text": [
            "h\n",
            "e\n",
            "l\n",
            "l\n",
            "o\n"
          ]
        }
      ]
    },
    {
      "cell_type": "markdown",
      "source": [
        "#16) How do you format strings in Python?\n",
        "- format method\n",
        "\n"
      ],
      "metadata": {
        "id": "oQTLa1xptJ1X"
      }
    },
    {
      "cell_type": "code",
      "source": [
        "name=\"pavan\"\n",
        "age=23\n",
        "print(\"my name is {} and my age is {}\".format(name,age))"
      ],
      "metadata": {
        "colab": {
          "base_uri": "https://localhost:8080/"
        },
        "id": "fNnT8Cz7uv2p",
        "outputId": "4ea2d0e1-2ca0-47e5-bb3f-7871e998b98a"
      },
      "execution_count": 24,
      "outputs": [
        {
          "output_type": "stream",
          "name": "stdout",
          "text": [
            "my name is pavan and my age is 23\n"
          ]
        }
      ]
    },
    {
      "cell_type": "markdown",
      "source": [
        "#17) What is a tuple and how is it different from a list?\n",
        "- tuple is immutable we cannot modify elements and has only two methods\n",
        "- list is mutable we can modify elements\n",
        "\n",
        "#18) How do you concatenate two tuples?\n"
      ],
      "metadata": {
        "id": "q3pEbpGVu_ho"
      }
    },
    {
      "cell_type": "code",
      "source": [
        "names= (\"pavan\", \"mallesh\", \"yogesh\")\n",
        "print(names)\n",
        "fruits = (\"apple\", \"banana\", \"cherry\")\n",
        "c= names+fruits\n",
        "print(c)"
      ],
      "metadata": {
        "colab": {
          "base_uri": "https://localhost:8080/"
        },
        "id": "YvValVKNvh_C",
        "outputId": "3250d659-f174-4226-e22c-0cfbb60f24c7"
      },
      "execution_count": 27,
      "outputs": [
        {
          "output_type": "stream",
          "name": "stdout",
          "text": [
            "('pavan', 'mallesh', 'yogesh')\n",
            "('pavan', 'mallesh', 'yogesh', 'apple', 'banana', 'cherry')\n"
          ]
        }
      ]
    },
    {
      "cell_type": "markdown",
      "source": [
        "#19) How do you access values in a dictionary?\n",
        "- by using [] and get method we can access the dictinory\n",
        "\n",
        "\n"
      ],
      "metadata": {
        "id": "ZgXTgD32wAXm"
      }
    },
    {
      "cell_type": "code",
      "source": [
        "names={1:\"pavan\",2:\"yogesh\",3:\"kanna\"}\n",
        "a=names[1]\n",
        "print(a)"
      ],
      "metadata": {
        "colab": {
          "base_uri": "https://localhost:8080/"
        },
        "id": "fKtEeAtWwtLg",
        "outputId": "ec36c792-6ff9-4a2e-929d-1d9ec17b7441"
      },
      "execution_count": 29,
      "outputs": [
        {
          "output_type": "stream",
          "name": "stdout",
          "text": [
            "pavan\n"
          ]
        }
      ]
    },
    {
      "cell_type": "markdown",
      "source": [
        "#20) How do you add a key-value pair to a dictionary?\n"
      ],
      "metadata": {
        "id": "bqJfZJYTxJuN"
      }
    },
    {
      "cell_type": "code",
      "source": [
        "names={1:\"pavan\",2:\"yogesh\",3:\"kanna\"}\n",
        "names[4]=\"mallesh\"\n",
        "print(names)"
      ],
      "metadata": {
        "colab": {
          "base_uri": "https://localhost:8080/"
        },
        "id": "u7R58QMSybRO",
        "outputId": "096f6511-3526-4f38-e671-0ad39176d3c7"
      },
      "execution_count": 31,
      "outputs": [
        {
          "output_type": "stream",
          "name": "stdout",
          "text": [
            "{1: 'pavan', 2: 'yogesh', 3: 'kanna', 4: 'mallesh'}\n"
          ]
        }
      ]
    },
    {
      "cell_type": "markdown",
      "source": [
        "#21) How do you remove a key-value pair from a dictionary?\n",
        "- pop method\n"
      ],
      "metadata": {
        "id": "s5ztE9Gqy5zk"
      }
    },
    {
      "cell_type": "code",
      "source": [
        "names={1:\"pavan\",2:\"yogesh\",3:\"kanna\"}\n",
        "names.pop(3)\n",
        "print(names)"
      ],
      "metadata": {
        "colab": {
          "base_uri": "https://localhost:8080/"
        },
        "id": "Mfm4UYskzIvt",
        "outputId": "04d1f29e-169e-406a-a669-650583bbff92"
      },
      "execution_count": 34,
      "outputs": [
        {
          "output_type": "stream",
          "name": "stdout",
          "text": [
            "{1: 'pavan', 2: 'yogesh'}\n"
          ]
        }
      ]
    },
    {
      "cell_type": "markdown",
      "source": [
        "#22) How do you add an element to a set?\n",
        "- we can use add or update for adding a element in the set\n"
      ],
      "metadata": {
        "id": "5NkplOVvzaiD"
      }
    },
    {
      "cell_type": "code",
      "source": [
        "names={\"pavan\",\"yogesh\",\"kanna\"}\n",
        "names.add(\"mallesh\")\n",
        "print(names)\n"
      ],
      "metadata": {
        "colab": {
          "base_uri": "https://localhost:8080/"
        },
        "id": "Hnz42-UDzvgu",
        "outputId": "39efa4be-4a52-478d-faa3-5ad3cd3fe847"
      },
      "execution_count": 35,
      "outputs": [
        {
          "output_type": "stream",
          "name": "stdout",
          "text": [
            "{'kanna', 'yogesh', 'mallesh', 'pavan'}\n"
          ]
        }
      ]
    },
    {
      "cell_type": "markdown",
      "source": [
        "#23) How do you remove an element from a set?\n",
        "- we can remove an element by using discard or remove\n"
      ],
      "metadata": {
        "id": "BLz5vU4vz8vu"
      }
    },
    {
      "cell_type": "code",
      "source": [
        "names={\"pavan\",\"yogesh\",\"kanna\"}\n",
        "names.remove(\"pavan\")\n",
        "print(names)"
      ],
      "metadata": {
        "colab": {
          "base_uri": "https://localhost:8080/"
        },
        "id": "Wj89e8_k0GjQ",
        "outputId": "ab742473-baff-4541-873a-24c8e5759b41"
      },
      "execution_count": 36,
      "outputs": [
        {
          "output_type": "stream",
          "name": "stdout",
          "text": [
            "{'kanna', 'yogesh'}\n"
          ]
        }
      ]
    },
    {
      "cell_type": "markdown",
      "source": [
        "#24) What are the common set operations in Python?\n",
        "- union\n",
        "- intersection\n",
        "- difference\n",
        "#25) Write a Python program to find the index of an element in a tuple?"
      ],
      "metadata": {
        "id": "cNrjyxHY0Rfw"
      }
    },
    {
      "cell_type": "code",
      "source": [
        "names=(\"pavan\",\"yogesh\",\"kanna\")\n",
        "a=names.index(\"kanna\")\n",
        "print(a)"
      ],
      "metadata": {
        "colab": {
          "base_uri": "https://localhost:8080/"
        },
        "id": "WwizXw460tfX",
        "outputId": "9ccf3c1b-e303-4596-aaed-a9b203af7e57"
      },
      "execution_count": 38,
      "outputs": [
        {
          "output_type": "stream",
          "name": "stdout",
          "text": [
            "2\n"
          ]
        }
      ]
    }
  ]
}