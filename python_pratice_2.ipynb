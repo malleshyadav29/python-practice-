{
  "nbformat": 4,
  "nbformat_minor": 0,
  "metadata": {
    "colab": {
      "provenance": []
    },
    "kernelspec": {
      "name": "python3",
      "display_name": "Python 3"
    },
    "language_info": {
      "name": "python"
    }
  },
  "cells": [
    {
      "cell_type": "markdown",
      "source": [
        "#**1Q: write the rules for creating variables?.**\n",
        "- variables  start with with alphanumerics.\n",
        "- variables will not start with special characters except underscore.\n",
        "- variables is case sensitive.\n",
        "- variables will not be keywords.\n",
        "\n",
        "- variables will not start with digits."
      ],
      "metadata": {
        "id": "Xmy41GXi3vgR"
      }
    },
    {
      "cell_type": "markdown",
      "source": [
        "#**2Q:what is type function?**\n",
        "- type function is used to known which data type of data stored in variable."
      ],
      "metadata": {
        "id": "hy8PnjLU3vH-"
      }
    },
    {
      "cell_type": "code",
      "source": [
        "x=0.33\n",
        "print(type(x))"
      ],
      "metadata": {
        "colab": {
          "base_uri": "https://localhost:8080/"
        },
        "id": "zU7hvEEqeerT",
        "outputId": "2743399f-8002-4bda-8e6a-b61379b02093"
      },
      "execution_count": 102,
      "outputs": [
        {
          "output_type": "stream",
          "name": "stdout",
          "text": [
            "<class 'float'>\n"
          ]
        }
      ]
    },
    {
      "cell_type": "markdown",
      "source": [
        "#**3Q: what is difference between = and ==?**\n",
        "- = is used to assign values to variables\n",
        "- == is used to compare the two variables"
      ],
      "metadata": {
        "id": "-L4bchz_3vUR"
      }
    },
    {
      "cell_type": "markdown",
      "source": [
        "#**4Q: what is the different between mutable and imutable?**\n",
        "- mutable is we can change and modify the element or valuses.\n",
        "\n",
        "      Eg:-list,string,set\n",
        "\n",
        "- immutable is we cannot change or modify the elements or values .\n",
        "\n",
        "      Eg:_ tuple"
      ],
      "metadata": {
        "id": "PBMQkUhC3u75"
      }
    },
    {
      "cell_type": "markdown",
      "source": [
        "#**5Q:-write python program sum of first natural numbers?**\n",
        "\n"
      ],
      "metadata": {
        "id": "8VeY2JlRg_rl"
      }
    },
    {
      "cell_type": "code",
      "source": [
        "a=[1,2,3,4,5,6,7,8,9,10]\n",
        "sum=0\n",
        "for i in a:\n",
        "  sum=sum+i;\n",
        "  print(sum)\n"
      ],
      "metadata": {
        "colab": {
          "base_uri": "https://localhost:8080/"
        },
        "id": "6oUdHySMiJZ9",
        "outputId": "ca919946-8c98-4d35-aacf-64c3f9db7a88"
      },
      "execution_count": 103,
      "outputs": [
        {
          "output_type": "stream",
          "name": "stdout",
          "text": [
            "1\n",
            "3\n",
            "6\n",
            "10\n",
            "15\n",
            "21\n",
            "28\n",
            "36\n",
            "45\n",
            "55\n"
          ]
        }
      ]
    },
    {
      "cell_type": "markdown",
      "source": [
        "#**1Q: write python program to identify given number is a prime (or) not?**"
      ],
      "metadata": {
        "id": "04xommZzpwyf"
      }
    },
    {
      "cell_type": "code",
      "source": [
        "\n",
        "num = int(input())\n",
        "if num > 1:\n",
        "    for i in range(2, int(num/2)+1):\n",
        "        if (num % i) == 0:\n",
        "            print(num, \"is not a prime number\")\n",
        "            break\n",
        "    else:\n",
        "        print(num, \"is a prime number\")"
      ],
      "metadata": {
        "colab": {
          "base_uri": "https://localhost:8080/"
        },
        "id": "eiB1otyEsoOx",
        "outputId": "25020ba1-7624-473a-ecc3-b70683795cd9"
      },
      "execution_count": 37,
      "outputs": [
        {
          "output_type": "stream",
          "name": "stdout",
          "text": [
            "4\n",
            "4 is not a prime number\n"
          ]
        }
      ]
    },
    {
      "cell_type": "markdown",
      "source": [
        "#**2Q: write a python program  Fibonacci series of given number?**"
      ],
      "metadata": {
        "id": "T7_zWgXFujYE"
      }
    },
    {
      "cell_type": "code",
      "source": [
        "n=int(input(\"enter the number\"))\n",
        "num1 = 0\n",
        "num2 = 1\n",
        "next_number = num2\n",
        "count = 1\n",
        "\n",
        "while count <= n:\n",
        "    print(next_number, end=\" \")\n",
        "    count += 1\n",
        "    num1, num2 = num2, next_number\n",
        "    next_number = num1 + num2\n",
        "print()"
      ],
      "metadata": {
        "colab": {
          "base_uri": "https://localhost:8080/"
        },
        "id": "qM-G-dBmv0xC",
        "outputId": "7ea3a4f4-b163-4a8f-aa44-5746dd2ba6e9"
      },
      "execution_count": 42,
      "outputs": [
        {
          "output_type": "stream",
          "name": "stdout",
          "text": [
            "enter the number11\n",
            "1 2 3 5 8 13 21 34 55 89 144 \n"
          ]
        }
      ]
    },
    {
      "cell_type": "markdown",
      "source": [
        "#**3Q: write a python program to identify factorial number of given number?**"
      ],
      "metadata": {
        "id": "fyYEPoUawGhS"
      }
    },
    {
      "cell_type": "code",
      "source": [
        "n1=int(input(\"enter the number\"))\n",
        "fact=1\n",
        "if n1 < 0:\n",
        "   print(\"enter positive integer\")\n",
        "elif num == 0:\n",
        "   print(\"The factorial of 0 is 1\")\n",
        "else:\n",
        "   for i in range(1,n1 + 1):\n",
        "\n",
        "    fact = fact*i\n",
        "   print(\"The factorial of\",n1,\"is:\",fact)\n",
        ""
      ],
      "metadata": {
        "colab": {
          "base_uri": "https://localhost:8080/"
        },
        "id": "fy_fSZf4wmR0",
        "outputId": "e7548a40-fdbe-42e4-8590-716a32c06154"
      },
      "execution_count": 65,
      "outputs": [
        {
          "output_type": "stream",
          "name": "stdout",
          "text": [
            "enter the number9\n",
            "The factorial of 9 is: 362880\n"
          ]
        }
      ]
    },
    {
      "cell_type": "markdown",
      "source": [
        "#**4Q: write a python program to print multiplication table of given number?**"
      ],
      "metadata": {
        "id": "BRbeumnnyMdk"
      }
    },
    {
      "cell_type": "code",
      "source": [
        "num = int(input(\"enter the multiplaction talbe? \"))\n",
        "\n",
        "# Iterate 10 times from i = 1 to 10\n",
        "for i in range(1, 11):\n",
        "   print(num, 'x', i, '=', num*i)"
      ],
      "metadata": {
        "colab": {
          "base_uri": "https://localhost:8080/"
        },
        "id": "Q5sS5y2Ryorb",
        "outputId": "09a4e930-3c2e-4f38-f332-d3895ad7cf95"
      },
      "execution_count": 67,
      "outputs": [
        {
          "output_type": "stream",
          "name": "stdout",
          "text": [
            "enter the multiplaction tabbe? 2\n",
            "2 x 1 = 2\n",
            "2 x 2 = 4\n",
            "2 x 3 = 6\n",
            "2 x 4 = 8\n",
            "2 x 5 = 10\n",
            "2 x 6 = 12\n",
            "2 x 7 = 14\n",
            "2 x 8 = 16\n",
            "2 x 9 = 18\n",
            "2 x 10 = 20\n"
          ]
        }
      ]
    },
    {
      "cell_type": "markdown",
      "source": [
        "#**5Q: write a python program to count total number of digits in a number?**"
      ],
      "metadata": {
        "id": "ItKU0y_DyyDA"
      }
    },
    {
      "cell_type": "code",
      "source": [
        "num  = int(input(\"enter the number\"))\n",
        "count = 0\n",
        "\n",
        "while num != 0:\n",
        "    num //= 10\n",
        "    count += 1\n",
        "\n",
        "print(\"Number of digits: \" + str(count))"
      ],
      "metadata": {
        "colab": {
          "base_uri": "https://localhost:8080/"
        },
        "id": "M6Edc-GhzN1c",
        "outputId": "5c2990cb-99f6-4455-c7a9-0d32527e3374"
      },
      "execution_count": 72,
      "outputs": [
        {
          "output_type": "stream",
          "name": "stdout",
          "text": [
            "enter the number2222\n",
            "Number of digits: 4\n"
          ]
        }
      ]
    },
    {
      "cell_type": "markdown",
      "source": [
        "#**6Q: write a python program to print list in reverse using loop?**"
      ],
      "metadata": {
        "id": "b3WK05WKzXPm"
      }
    },
    {
      "cell_type": "code",
      "source": [
        "\n",
        "list = input(\"enter a list of numbers:\")\n",
        "r = []\n",
        "for b in reversed(list):\n",
        "    r.append(b)\n",
        "    print(b)\n",
        ""
      ],
      "metadata": {
        "colab": {
          "base_uri": "https://localhost:8080/"
        },
        "id": "i5ivzyaXInEJ",
        "outputId": "1a6fc633-9d75-4816-83e1-4295f800171d"
      },
      "execution_count": 101,
      "outputs": [
        {
          "output_type": "stream",
          "name": "stdout",
          "text": [
            "enter a list of numbers:123456\n",
            "6\n",
            "5\n",
            "4\n",
            "3\n",
            "2\n",
            "1\n"
          ]
        }
      ]
    },
    {
      "cell_type": "markdown",
      "source": [
        "#**7Q:write a python to display from -10 to -1 using loop?**"
      ],
      "metadata": {
        "id": "z0Oc71-Bz8rS"
      }
    },
    {
      "cell_type": "code",
      "source": [
        "for i in range(-10 , 0):\n",
        "    print(i)"
      ],
      "metadata": {
        "colab": {
          "base_uri": "https://localhost:8080/"
        },
        "id": "gnT44rMt0hhA",
        "outputId": "c54fcc7e-97e7-4aa5-a7cb-172af94104a5"
      },
      "execution_count": null,
      "outputs": [
        {
          "output_type": "stream",
          "name": "stdout",
          "text": [
            "-10\n",
            "-9\n",
            "-8\n",
            "-7\n",
            "-6\n",
            "-5\n",
            "-4\n",
            "-3\n",
            "-2\n",
            "-1\n"
          ]
        }
      ]
    }
  ]
}